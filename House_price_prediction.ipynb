{
 "cells": [
  {
   "cell_type": "code",
   "execution_count": null,
   "id": "e24f4ee3",
   "metadata": {},
   "outputs": [],
   "source": [
    "import pandas as pd\n",
    "from sklearn.datasets import fetch_california_housing\n",
    "from sklearn.model_selection import train_test_split\n",
    "from sklearn.linear_model import LinearRegression\n",
    "from sklearn.metrics import mean_squared_error,r2_score\n",
    "import numpy as np\n",
    "\n"
   ]
  },
  {
   "cell_type": "code",
   "execution_count": null,
   "id": "05526545",
   "metadata": {},
   "outputs": [],
   "source": [
    "#Load Dataset(California Housing as Boston is deprecated)\n",
    "housing = fetch_california_housing()\n",
    "df=pd.DataFrame(housing.data,columns=housing.feature_names)\n",
    "df['Price'] = housing.target\n",
    "print(df.head())"
   ]
  },
  {
   "cell_type": "code",
   "execution_count": null,
   "id": "8fa337ad",
   "metadata": {},
   "outputs": [],
   "source": [
    "#Train/Test split\n",
    "X= df.drop(\"Price\",axis=1)\n",
    "y= df[\"Price\"]\n",
    "X_train, X_test, y_train, y_test = train_test_split(X,y,test_size=0.2,random_state=42)\n"
   ]
  },
  {
   "cell_type": "code",
   "execution_count": null,
   "id": "fb4cf7e0",
   "metadata": {},
   "outputs": [],
   "source": [
    "#Model \n",
    "model = LinearRegression()\n",
    "model.fit(X_train, y_train)\n"
   ]
  },
  {
   "cell_type": "code",
   "execution_count": null,
   "id": "f3d9a0b7",
   "metadata": {},
   "outputs": [],
   "source": [
    "#Evaluation \n",
    "print(\"Mean Squared Error:\", mean_squared_error(y_test,y_pred))\n",
    "print(\"R2 Score :\", r2_score(y_test, y_pred))\n"
   ]
  }
 ],
 "metadata": {
  "language_info": {
   "name": "python"
  }
 },
 "nbformat": 4,
 "nbformat_minor": 5
}
